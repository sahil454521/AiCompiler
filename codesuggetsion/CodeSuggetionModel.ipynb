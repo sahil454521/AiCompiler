{
 "cells": [
  {
   "cell_type": "code",
   "execution_count": 18,
   "id": "a6a2f118",
   "metadata": {},
   "outputs": [],
   "source": [
    "import pandas as pd \n",
    "import numpy as np\n",
    "import sqlite3\n",
    "import re"
   ]
  },
  {
   "cell_type": "code",
   "execution_count": 3,
   "id": "b91f98ed",
   "metadata": {},
   "outputs": [
    {
     "name": "stderr",
     "output_type": "stream",
     "text": [
      "C:\\Users\\sahil\\AppData\\Local\\Packages\\PythonSoftwareFoundation.Python.3.13_qbz5n2kfra8p0\\LocalCache\\local-packages\\Python313\\site-packages\\tqdm\\auto.py:21: TqdmWarning: IProgress not found. Please update jupyter and ipywidgets. See https://ipywidgets.readthedocs.io/en/stable/user_install.html\n",
      "  from .autonotebook import tqdm as notebook_tqdm\n"
     ]
    }
   ],
   "source": [
    "import kagglehub"
   ]
  },
  {
   "cell_type": "code",
   "execution_count": 4,
   "id": "61e2b8d7",
   "metadata": {},
   "outputs": [
    {
     "name": "stdout",
     "output_type": "stream",
     "text": [
      "Path to dataset files: C:\\Users\\sahil\\.cache\\kagglehub\\datasets\\simiotic\\github-code-snippets\\versions\\1\n"
     ]
    }
   ],
   "source": [
    "path = kagglehub.dataset_download(\"simiotic/github-code-snippets\")\n",
    "\n",
    "print(\"Path to dataset files:\", path)"
   ]
  },
  {
   "cell_type": "code",
   "execution_count": 11,
   "id": "4fa576f5",
   "metadata": {},
   "outputs": [
    {
     "name": "stdout",
     "output_type": "stream",
     "text": [
      "Tables: [('snippets',), ('sqlite_sequence',)]\n",
      "Columns in 'snippets':\n",
      "(0, 'id', 'INTEGER', 0, None, 1)\n",
      "(1, 'code', 'TEXT', 1, None, 0)\n"
     ]
    }
   ],
   "source": [
    "\n",
    "conn = sqlite3.connect(\"snippets-dev.db\")\n",
    "cursor = conn.cursor()\n",
    "\n",
    "# List all tables\n",
    "cursor.execute(\"SELECT name FROM sqlite_master WHERE type='table';\")\n",
    "print(\"Tables:\", cursor.fetchall())\n",
    "\n",
    "cursor.execute(\"PRAGMA table_info(snippets);\")\n",
    "columns = cursor.fetchall()\n",
    "\n",
    "print(\"Columns in 'snippets':\")\n",
    "for col in columns:\n",
    "    print(col)"
   ]
  },
  {
   "cell_type": "code",
   "execution_count": 15,
   "id": "7beca5e2",
   "metadata": {},
   "outputs": [],
   "source": [
    "df = pd.read_sql_query(\"SELECT id, code AS snippet FROM snippets LIMIT 1000\", conn)\n"
   ]
  },
  {
   "cell_type": "code",
   "execution_count": 19,
   "id": "84294305",
   "metadata": {},
   "outputs": [],
   "source": [
    "def extract_features(snippet):\n",
    "    lines = snippet.strip().split('\\n')\n",
    "    num_lines = len(lines)\n",
    "    num_chars = len(snippet)\n",
    "    avg_line_length = sum(len(line) for line in lines) / num_lines if num_lines > 0 else 0\n",
    "    num_keywords = len(re.findall(r\"\\b(def|class|fit|transform|import|return)\\b\", snippet))\n",
    "    num_functions = snippet.count(\"def\")\n",
    "    num_classes = snippet.count(\"class\")\n",
    "    \n",
    "    return {\n",
    "        \"num_lines\": num_lines,\n",
    "        \"num_chars\": num_chars,\n",
    "        \"avg_line_length\": avg_line_length,\n",
    "        \"num_keywords\": num_keywords,\n",
    "        \"num_functions\": num_functions,\n",
    "        \"num_classes\": num_classes,\n",
    "    }\n"
   ]
  },
  {
   "cell_type": "code",
   "execution_count": 20,
   "id": "89d24aa2",
   "metadata": {},
   "outputs": [
    {
     "name": "stdout",
     "output_type": "stream",
     "text": [
      "   num_lines  num_chars  avg_line_length  num_keywords  num_functions  \\\n",
      "0          1         22             22.0             0              0   \n",
      "1          1         27             27.0             0              0   \n",
      "\n",
      "   num_classes  id  \n",
      "0            0   1  \n",
      "1            0   2  \n"
     ]
    }
   ],
   "source": [
    "features_list = []\n",
    "\n",
    "for _, row in df.iterrows():\n",
    "    features = extract_features(row[\"snippet\"])\n",
    "    features[\"id\"] = row[\"id\"]\n",
    "    features_list.append(features)\n",
    "\n",
    "features_df = pd.DataFrame(features_list)\n",
    "print(features_df.head())\n"
   ]
  },
  {
   "cell_type": "code",
   "execution_count": 21,
   "id": "0cb06ff9",
   "metadata": {},
   "outputs": [
    {
     "name": "stdout",
     "output_type": "stream",
     "text": [
      "   num_lines  num_chars  avg_line_length  num_keywords  num_functions  \\\n",
      "0          1         22             22.0             0              0   \n",
      "1          1         27             27.0             0              0   \n",
      "\n",
      "   num_classes  id              suggested_model  \n",
      "0            0   1  scikit-learn (simple model)  \n",
      "1            0   2  scikit-learn (simple model)  \n"
     ]
    }
   ],
   "source": [
    "def suggest_ml_model(features):\n",
    "    if features[\"num_keywords\"] >= 2 and features[\"num_functions\"] >= 1:\n",
    "        return \"scikit-learn\"\n",
    "    elif features[\"num_classes\"] >= 1:\n",
    "        return \"TensorFlow\"\n",
    "    elif features[\"num_lines\"] > 20:\n",
    "        return \"XGBoost\"\n",
    "    else:\n",
    "        return \"scikit-learn (simple model)\"\n",
    "features_df[\"suggested_model\"] = features_df.apply(suggest_ml_model, axis=1)\n",
    "print(features_df.head())\n"
   ]
  }
 ],
 "metadata": {
  "kernelspec": {
   "display_name": "Python 3",
   "language": "python",
   "name": "python3"
  },
  "language_info": {
   "codemirror_mode": {
    "name": "ipython",
    "version": 3
   },
   "file_extension": ".py",
   "mimetype": "text/x-python",
   "name": "python",
   "nbconvert_exporter": "python",
   "pygments_lexer": "ipython3",
   "version": "3.13.3"
  }
 },
 "nbformat": 4,
 "nbformat_minor": 5
}
